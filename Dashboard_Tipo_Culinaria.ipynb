{
 "cells": [
  {
   "cell_type": "code",
   "execution_count": 1,
   "id": "a668281a-4040-4550-9b10-c51dcc2357ad",
   "metadata": {},
   "outputs": [],
   "source": [
    "import pandas as pd"
   ]
  },
  {
   "cell_type": "code",
   "execution_count": 29,
   "id": "eac9fd2d-f79a-4826-9111-b3cd2316b678",
   "metadata": {},
   "outputs": [],
   "source": [
    "df = pd.read_csv(\"C:\\\\Users\\\\jatos\\\\Desktop\\\\JA\\\\Material Data Science\\Datasets\\\\archive\\\\zomato.csv\")\n",
    "df1 = df.copy()\n"
   ]
  },
  {
   "cell_type": "code",
   "execution_count": 30,
   "id": "5a6355c5-86ea-4b67-b677-0ce5ebd65e73",
   "metadata": {},
   "outputs": [],
   "source": [
    "# Funções\n",
    "\n",
    "#Preenchimento do nome dos países:\n",
    "COUNTRIES = {\n",
    "1: \"India\",\n",
    "14: \"Australia\",\n",
    "30: \"Brazil\",\n",
    "37: \"Canada\",\n",
    "94: \"Indonesia\",\n",
    "148: \"New Zeland\",\n",
    "162: \"Philippines\",\n",
    "166: \"Qatar\",\n",
    "184: \"Singapure\",\n",
    "189: \"South Africa\",\n",
    "191: \"Sri Lanka\",\n",
    "208: \"Turkey\",\n",
    "214: \"United Arab Emirates\",\n",
    "215: \"England\",\n",
    "216: \"United States of America\",\n",
    "}\n",
    "def country_name(country_id):\n",
    "    return COUNTRIES[country_id]\n",
    "\n",
    "#-------------------------------------------------------\n",
    "#Criação do Tipo de Categoria de Comida\n",
    "\n",
    "def create_price_tye(price_range):\n",
    "    if price_range == 1:\n",
    "        return \"cheap\"\n",
    "    elif price_range == 2:\n",
    "        return \"normal\"\n",
    "    elif price_range == 3:\n",
    "        return \"expensive\"\n",
    "    else:\n",
    "        return \"gourmet\"\n",
    "\n",
    "#--------------------------------------------------------\n",
    "# Criação do nome das Cores\n",
    "\n",
    "COLORS = {\n",
    "\"3F7E00\": \"darkgreen\",\n",
    "\"5BA829\": \"green\",\n",
    "\"9ACD32\": \"lightgreen\",\n",
    "\"CDD614\": \"orange\",\n",
    "\"FFBA00\": \"red\",\n",
    "\"CBCBC8\": \"darkred\",\n",
    "\"FF7800\": \"darkred\",\n",
    "}\n",
    "def color_name(color_code):\n",
    "    return COLORS[color_code]\n",
    "\n",
    "#--------------------------------------------\n",
    "# Renomear as colunas do DataFrame:\n",
    "\n",
    "def rename_columns(dataframe):\n",
    "    df1 = dataframe.copy()\n",
    "    title = lambda x: inflection.titleize(x)\n",
    "    snakecase = lambda x: inflection.underscore(x)\n",
    "    spaces = lambda x: x.replace(\" \", \"\")\n",
    "    cols_old = list(df.columns)\n",
    "    cols_old = list(map(title, cols_old))\n",
    "    cols_old = list(map(spaces, cols_old))\n",
    "    cols_new = list(map(snakecase, cols_old))\n",
    "    df.columns = cols_new\n",
    "    return df1\n",
    "# Limpando os dados\n",
    "df1 = df1.dropna(subset=['Cuisines'])\n",
    "df1[\"Cuisines\"] = df1.loc[:, \"Cuisines\"].apply(lambda x: x.split(\",\")[0])\n",
    "\n",
    "# Convertendo a coluna dos códigos\n",
    "df1['Country Code'] = df1['Country Code'].apply(lambda x: country_name(x))\n"
   ]
  },
  {
   "cell_type": "code",
   "execution_count": 12,
   "id": "c6c3d495-ae0f-452e-bfda-3b2dc096306d",
   "metadata": {},
   "outputs": [
    {
     "data": {
      "text/plain": [
       "'Central Grocery'"
      ]
     },
     "execution_count": 12,
     "metadata": {},
     "output_type": "execute_result"
    }
   ],
   "source": [
    "# 1. Dos restaurantes que possuem o tipo de culinária italiana, qual o nome do\n",
    "# restaurante com a maior média de avaliação?\n",
    "linha = (df1['Cuisines'] == 'Italian')\n",
    "df_aux = df1.loc[linha,:]\n",
    "resp = (df_aux.loc[:, ['Restaurant Name', 'Aggregate rating']]\n",
    "        .groupby('Restaurant Name').mean()\n",
    "        .sort_values('Aggregate rating', ascending = False).reset_index())\n",
    "resp.iloc[0,0]"
   ]
  },
  {
   "cell_type": "code",
   "execution_count": 13,
   "id": "cf8ecbde-c207-454c-8e96-e131eb12c6af",
   "metadata": {},
   "outputs": [
    {
     "data": {
      "text/plain": [
       "'La Bocca Bar e Trattoria'"
      ]
     },
     "execution_count": 13,
     "metadata": {},
     "output_type": "execute_result"
    }
   ],
   "source": [
    "# 2. Dos restaurantes que possuem o tipo de culinária italiana, qual o nome do\n",
    "# restaurante com a menor média de avaliação?\n",
    "linha = (df1['Cuisines'] == 'Italian')\n",
    "df_aux = df1.loc[linha,:]\n",
    "resp = (df_aux.loc[:, ['Restaurant Name', 'Aggregate rating']]\n",
    "        .groupby('Restaurant Name').mean()\n",
    "        .sort_values('Aggregate rating').reset_index())\n",
    "resp.iloc[0,0]"
   ]
  },
  {
   "cell_type": "code",
   "execution_count": 15,
   "id": "c2120972-c7ee-4dde-bbd3-4f45a2e43680",
   "metadata": {},
   "outputs": [
    {
     "data": {
      "text/plain": [
       "'Fat Cat'"
      ]
     },
     "execution_count": 15,
     "metadata": {},
     "output_type": "execute_result"
    }
   ],
   "source": [
    "# 3. Dos restaurantes que possuem o tipo de culinária americana, qual o nome do\n",
    "# restaurante com a maior média de avaliação?\n",
    "linha = (df1['Cuisines'] == 'American')\n",
    "df_aux = df1.loc[linha,:]\n",
    "resp = (df_aux.loc[:, ['Restaurant Name', 'Aggregate rating']]\n",
    "        .groupby('Restaurant Name').mean()\n",
    "        .sort_values('Aggregate rating', ascending = False).reset_index())\n",
    "resp.iloc[0,0]"
   ]
  },
  {
   "cell_type": "code",
   "execution_count": 17,
   "id": "ef383e31-c0ef-4d82-b78f-77d4641d58d5",
   "metadata": {},
   "outputs": [
    {
     "data": {
      "text/plain": [
       "'Alston Bar & Beef'"
      ]
     },
     "execution_count": 17,
     "metadata": {},
     "output_type": "execute_result"
    }
   ],
   "source": [
    "# 4. Dos restaurantes que possuem o tipo de culinária americana, qual o nome do\n",
    "# restaurante com a menor média de avaliação?\n",
    "linha = (df1['Cuisines'] == 'American')\n",
    "df_aux = df1.loc[linha,:]\n",
    "resp = (df_aux.loc[:, ['Restaurant Name', 'Aggregate rating']]\n",
    "        .groupby('Restaurant Name').mean()\n",
    "        .sort_values('Aggregate rating').reset_index())\n",
    "resp.iloc[0,0]"
   ]
  },
  {
   "cell_type": "code",
   "execution_count": 18,
   "id": "c07dab57-c92e-4eb3-b031-5dcb9d232251",
   "metadata": {},
   "outputs": [
    {
     "data": {
      "text/plain": [
       "'Mandi@36'"
      ]
     },
     "execution_count": 18,
     "metadata": {},
     "output_type": "execute_result"
    }
   ],
   "source": [
    "# 5. Dos restaurantes que possuem o tipo de culinária árabe, qual o nome do\n",
    "# restaurante com a maior média de avaliação?\n",
    "linha = (df1['Cuisines'] == 'Arabian')\n",
    "df_aux = df1.loc[linha,:]\n",
    "resp = (df_aux.loc[:, ['Restaurant Name', 'Aggregate rating']]\n",
    "        .groupby('Restaurant Name').mean()\n",
    "        .sort_values('Aggregate rating', ascending = False).reset_index())\n",
    "resp.iloc[0,0]"
   ]
  },
  {
   "cell_type": "code",
   "execution_count": 19,
   "id": "934081a5-3f07-4502-8d0e-8f9e855cc582",
   "metadata": {},
   "outputs": [
    {
     "data": {
      "text/plain": [
       "'Raful'"
      ]
     },
     "execution_count": 19,
     "metadata": {},
     "output_type": "execute_result"
    }
   ],
   "source": [
    "# 6. Dos restaurantes que possuem o tipo de culinária árabe, qual o nome do\n",
    "# restaurante com a menor média de avaliação?\n",
    "linha = (df1['Cuisines'] == 'Arabian')\n",
    "df_aux = df1.loc[linha,:]\n",
    "resp = (df_aux.loc[:, ['Restaurant Name', 'Aggregate rating']]\n",
    "        .groupby('Restaurant Name').mean()\n",
    "        .sort_values('Aggregate rating').reset_index())\n",
    "resp.iloc[0,0]"
   ]
  },
  {
   "cell_type": "code",
   "execution_count": 20,
   "id": "207fd6c6-919e-4a28-a386-e628d32ed0fd",
   "metadata": {},
   "outputs": [
    {
     "data": {
      "text/plain": [
       "'Samurai'"
      ]
     },
     "execution_count": 20,
     "metadata": {},
     "output_type": "execute_result"
    }
   ],
   "source": [
    "# 7. Dos restaurantes que possuem o tipo de culinária japonesa, qual o nome do\n",
    "# restaurante com a maior média de avaliação?\n",
    "linha = (df1['Cuisines'] == 'Japanese')\n",
    "df_aux = df1.loc[linha,:]\n",
    "resp = (df_aux.loc[:, ['Restaurant Name', 'Aggregate rating']]\n",
    "        .groupby('Restaurant Name').mean()\n",
    "        .sort_values('Aggregate rating', ascending = False).reset_index())\n",
    "resp.iloc[0,0]"
   ]
  },
  {
   "cell_type": "code",
   "execution_count": 21,
   "id": "5e6f9db2-b0fc-4a79-bb1e-549859eb129f",
   "metadata": {},
   "outputs": [
    {
     "data": {
      "text/plain": [
       "'Banzai Sushi'"
      ]
     },
     "execution_count": 21,
     "metadata": {},
     "output_type": "execute_result"
    }
   ],
   "source": [
    "# 8. Dos restaurantes que possuem o tipo de culinária japonesa, qual o nome do\n",
    "# restaurante com a menor média de avaliação?\n",
    "linha = (df1['Cuisines'] == 'Japanese')\n",
    "df_aux = df1.loc[linha,:]\n",
    "resp = (df_aux.loc[:, ['Restaurant Name', 'Aggregate rating']]\n",
    "        .groupby('Restaurant Name').mean()\n",
    "        .sort_values('Aggregate rating').reset_index())\n",
    "resp.iloc[0,0]"
   ]
  },
  {
   "cell_type": "code",
   "execution_count": 22,
   "id": "7718f49e-5169-4348-981d-4536550466d9",
   "metadata": {},
   "outputs": [
    {
     "data": {
      "text/plain": [
       "'Kanaat Lokantası'"
      ]
     },
     "execution_count": 22,
     "metadata": {},
     "output_type": "execute_result"
    }
   ],
   "source": [
    "# 9. Dos restaurantes que possuem o tipo de culinária caseira, qual o nome do\n",
    "# restaurante com a maior média de avaliação?\n",
    "linha = (df1['Cuisines'] == 'Home-made')\n",
    "df_aux = df1.loc[linha,:]\n",
    "resp = (df_aux.loc[:, ['Restaurant Name', 'Aggregate rating']]\n",
    "        .groupby('Restaurant Name').mean()\n",
    "        .sort_values('Aggregate rating', ascending = False).reset_index())\n",
    "resp.iloc[0,0]"
   ]
  },
  {
   "cell_type": "code",
   "execution_count": 23,
   "id": "24848525-b8e9-4c32-80bf-9e7fadf0ac4c",
   "metadata": {},
   "outputs": [
    {
     "data": {
      "text/plain": [
       "'GurMekan Restaurant'"
      ]
     },
     "execution_count": 23,
     "metadata": {},
     "output_type": "execute_result"
    }
   ],
   "source": [
    "# 10. Dos restaurantes que possuem o tipo de culinária caseira, qual o nome do\n",
    "# restaurante com a menor média de avaliação?\n",
    "linha = (df1['Cuisines'] == 'Home-made')\n",
    "df_aux = df1.loc[linha,:]\n",
    "resp = (df_aux.loc[:, ['Restaurant Name', 'Aggregate rating']]\n",
    "        .groupby('Restaurant Name').mean()\n",
    "        .sort_values('Aggregate rating').reset_index())\n",
    "resp.iloc[0,0]"
   ]
  },
  {
   "cell_type": "code",
   "execution_count": 34,
   "id": "9ead658a-2d5c-477a-bfc2-3924f66e0bb7",
   "metadata": {},
   "outputs": [
    {
     "data": {
      "text/plain": [
       "'Modern Australian'"
      ]
     },
     "execution_count": 34,
     "metadata": {},
     "output_type": "execute_result"
    }
   ],
   "source": [
    "# 11. Qual o tipo de culinária que possui o maior valor médio de um prato para duas\n",
    "# pessoas?\n",
    "df_aux = (df1.loc[:, ['Cuisines','Average Cost for two']]\n",
    "          .groupby('Cuisines').mean()\n",
    "          .sort_values('Average Cost for two', ascending = False).reset_index())\n",
    "pd.set_option('float_format', '{:,.2f}'.format)\n",
    "df_aux.iloc[0,0]"
   ]
  },
  {
   "cell_type": "code",
   "execution_count": 37,
   "id": "dad046ff-023c-46ae-b7d8-adf32c9c7a51",
   "metadata": {},
   "outputs": [
    {
     "data": {
      "text/plain": [
       "'Others'"
      ]
     },
     "execution_count": 37,
     "metadata": {},
     "output_type": "execute_result"
    }
   ],
   "source": [
    "# 12. Qual o tipo de culinária que possui a maior nota média?\n",
    "df_aux = (df1.loc[:, ['Cuisines','Aggregate rating']]\n",
    "          .groupby('Cuisines').mean()\n",
    "          .sort_values('Aggregate rating', ascending = False).reset_index())\n",
    "df_aux.iloc[0,0]"
   ]
  },
  {
   "cell_type": "code",
   "execution_count": 46,
   "id": "126a7cd2-6998-410f-ae0d-29e89be33374",
   "metadata": {},
   "outputs": [
    {
     "data": {
      "text/plain": [
       "'North Indian'"
      ]
     },
     "execution_count": 46,
     "metadata": {},
     "output_type": "execute_result"
    }
   ],
   "source": [
    "# 13. Qual o tipo de culinária que possui mais restaurantes que aceitam pedidos\n",
    "# online e fazem entregas?\n",
    "df_aux = df1.drop_duplicates(subset='Restaurant ID', keep = 'first')\n",
    "resp = (df_aux.loc[:, ['Has Online delivery', 'Cuisines', 'Is delivering now']]\n",
    "        .groupby('Cuisines').count()\n",
    "        .sort_values(['Has Online delivery', 'Is delivering now'], ascending=False).reset_index())\n",
    "resp.iloc[0,0]"
   ]
  },
  {
   "cell_type": "code",
   "execution_count": null,
   "id": "e4daf780-c340-43c7-994f-d9b6f86d63e1",
   "metadata": {},
   "outputs": [],
   "source": []
  }
 ],
 "metadata": {
  "kernelspec": {
   "display_name": "Python 3 (ipykernel)",
   "language": "python",
   "name": "python3"
  },
  "language_info": {
   "codemirror_mode": {
    "name": "ipython",
    "version": 3
   },
   "file_extension": ".py",
   "mimetype": "text/x-python",
   "name": "python",
   "nbconvert_exporter": "python",
   "pygments_lexer": "ipython3",
   "version": "3.10.8"
  }
 },
 "nbformat": 4,
 "nbformat_minor": 5
}
