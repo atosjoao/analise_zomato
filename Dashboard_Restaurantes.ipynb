{
 "cells": [
  {
   "cell_type": "code",
   "execution_count": 1,
   "id": "3d1f1bb3-c1ed-4ed9-a38d-1dcca990c897",
   "metadata": {},
   "outputs": [],
   "source": [
    "import pandas as pd\n",
    "import inflection\n"
   ]
  },
  {
   "cell_type": "code",
   "execution_count": 2,
   "id": "d9085368-6e84-4b4c-91ff-4c9658f4280b",
   "metadata": {},
   "outputs": [],
   "source": [
    "df = pd.read_csv(\"C:\\\\Users\\\\jatos\\\\Desktop\\\\JA\\\\Material Data Science\\Datasets\\\\archive\\\\zomato.csv\")\n",
    "df1 = df.copy()"
   ]
  },
  {
   "cell_type": "code",
   "execution_count": 3,
   "id": "8844aa14-015a-4934-8428-e66244e7f834",
   "metadata": {},
   "outputs": [],
   "source": [
    "# Funções\n",
    "\n",
    "#Preenchimento do nome dos países:\n",
    "COUNTRIES = {\n",
    "1: \"India\",\n",
    "14: \"Australia\",\n",
    "30: \"Brazil\",\n",
    "37: \"Canada\",\n",
    "94: \"Indonesia\",\n",
    "148: \"New Zeland\",\n",
    "162: \"Philippines\",\n",
    "166: \"Qatar\",\n",
    "184: \"Singapure\",\n",
    "189: \"South Africa\",\n",
    "191: \"Sri Lanka\",\n",
    "208: \"Turkey\",\n",
    "214: \"United Arab Emirates\",\n",
    "215: \"England\",\n",
    "216: \"United States of America\",\n",
    "}\n",
    "def country_name(country_id):\n",
    "    return COUNTRIES[country_id]\n",
    "\n",
    "#-------------------------------------------------------\n",
    "#Criação do Tipo de Categoria de Comida\n",
    "\n",
    "def create_price_tye(price_range):\n",
    "    if price_range == 1:\n",
    "        return \"cheap\"\n",
    "    elif price_range == 2:\n",
    "        return \"normal\"\n",
    "    elif price_range == 3:\n",
    "        return \"expensive\"\n",
    "    else:\n",
    "        return \"gourmet\"\n",
    "\n",
    "#--------------------------------------------------------\n",
    "# Criação do nome das Cores\n",
    "\n",
    "COLORS = {\n",
    "\"3F7E00\": \"darkgreen\",\n",
    "\"5BA829\": \"green\",\n",
    "\"9ACD32\": \"lightgreen\",\n",
    "\"CDD614\": \"orange\",\n",
    "\"FFBA00\": \"red\",\n",
    "\"CBCBC8\": \"darkred\",\n",
    "\"FF7800\": \"darkred\",\n",
    "}\n",
    "def color_name(color_code):\n",
    "    return COLORS[color_code]\n",
    "\n",
    "#--------------------------------------------\n",
    "# Renomear as colunas do DataFrame:\n",
    "\n",
    "def rename_columns(dataframe):\n",
    "    df1 = dataframe.copy()\n",
    "    title = lambda x: inflection.titleize(x)\n",
    "    snakecase = lambda x: inflection.underscore(x)\n",
    "    spaces = lambda x: x.replace(\" \", \"\")\n",
    "    cols_old = list(df.columns)\n",
    "    cols_old = list(map(title, cols_old))\n",
    "    cols_old = list(map(spaces, cols_old))\n",
    "    cols_new = list(map(snakecase, cols_old))\n",
    "    df.columns = cols_new\n",
    "    return df1\n",
    "# Limpando os dados\n",
    "df1 = df1.dropna(subset=['Cuisines'])\n",
    "df1[\"Cuisines\"] = df1.loc[:, \"Cuisines\"].apply(lambda x: x.split(\",\")[0])\n",
    "\n",
    "# Convertendo a coluna dos códigos\n",
    "df1['Country Code'] = df1['Country Code'].apply(lambda x: country_name(x))"
   ]
  },
  {
   "cell_type": "code",
   "execution_count": 5,
   "id": "133324f7-b186-4daf-8f22-f4de228bb034",
   "metadata": {},
   "outputs": [
    {
     "name": "stdout",
     "output_type": "stream",
     "text": [
      "Domino's Pizza\n"
     ]
    }
   ],
   "source": [
    "# 1. Qual o nome do restaurante que possui a maior quantidade de avaliações?\n",
    "df_aux = (df1.loc[:, ['Restaurant Name', 'Aggregate rating']]\n",
    "          .groupby('Restaurant Name').count()\n",
    "          .sort_values('Aggregate rating', ascending = False).reset_index())\n",
    "print(df_aux.iloc[0,0])"
   ]
  },
  {
   "cell_type": "code",
   "execution_count": 6,
   "id": "93b99613-850b-48cf-960b-8f399730d69b",
   "metadata": {},
   "outputs": [
    {
     "name": "stdout",
     "output_type": "stream",
     "text": [
      "Phil's Bbq\n"
     ]
    }
   ],
   "source": [
    "# 2. Qual o nome do restaurante com a maior nota média?\n",
    "df_aux = (df1.loc[:, ['Restaurant Name', 'Aggregate rating']]\n",
    "          .groupby('Restaurant Name').mean()\n",
    "          .sort_values('Aggregate rating', ascending = False).reset_index())\n",
    "print(df_aux.iloc[0,0])"
   ]
  },
  {
   "cell_type": "code",
   "execution_count": 7,
   "id": "ca04daae-13a4-4684-8fdc-17a14aa7484b",
   "metadata": {},
   "outputs": [
    {
     "name": "stdout",
     "output_type": "stream",
     "text": [
      "d'Arry's Verandah Restaurant\n"
     ]
    }
   ],
   "source": [
    "# 3. Qual o nome do restaurante que possui o maior valor de uma prato para duas pessoas?\n",
    "df_aux = (df1.loc[:, ['Restaurant Name', 'Average Cost for two']]\n",
    "          .groupby('Restaurant Name').max()\n",
    "          .sort_values('Average Cost for two', ascending = False).reset_index())\n",
    "pd.set_option('float_format', '{:,.2f}'.format)\n",
    "print(df_aux.iloc[0,0])"
   ]
  },
  {
   "cell_type": "code",
   "execution_count": 8,
   "id": "cba20a5a-5e8b-4bc7-a347-31b1ef852b00",
   "metadata": {},
   "outputs": [
    {
     "name": "stdout",
     "output_type": "stream",
     "text": [
      "Restaurante dos Amigos\n"
     ]
    }
   ],
   "source": [
    "# 4. Qual o nome do restaurante de tipo de culinária brasileira que possui a menor média de avaliação?\n",
    "linha = df1['Cuisines'] == 'Brazilian'\n",
    "df_aux = df1.loc[linha, :]\n",
    "df_aux1 = df_aux.loc[:, ['Restaurant Name', 'Aggregate rating']].groupby('Restaurant Name').min().sort_values('Aggregate rating').reset_index()\n",
    "print(df_aux1.iloc[0,0])\n"
   ]
  },
  {
   "cell_type": "code",
   "execution_count": 9,
   "id": "aff9bee7-084a-4844-ab8a-bc60447d41a1",
   "metadata": {},
   "outputs": [
    {
     "name": "stdout",
     "output_type": "stream",
     "text": [
      "Braseiro da Gávea\n"
     ]
    }
   ],
   "source": [
    "# 5. Qual o nome do restaurante de tipo de culinária brasileira, e que é do Brasil, que possui a maior média de avaliação?\n",
    "linha = (df1['Cuisines'] == 'Brazilian') & (df1['Country Code'] == 'Brazil')\n",
    "df_aux = df1.loc[linha, :]\n",
    "df_aux1 = df_aux.loc[:, ['Restaurant Name', 'Aggregate rating']].groupby('Restaurant Name').max().sort_values('Aggregate rating', ascending = False).reset_index()\n",
    "print(df_aux1.iloc[0,0])"
   ]
  },
  {
   "cell_type": "code",
   "execution_count": 8,
   "id": "f0d8f673-e842-48d8-b147-7f9f41b9ca12",
   "metadata": {},
   "outputs": [
    {
     "data": {
      "text/html": [
       "<div>\n",
       "<style scoped>\n",
       "    .dataframe tbody tr th:only-of-type {\n",
       "        vertical-align: middle;\n",
       "    }\n",
       "\n",
       "    .dataframe tbody tr th {\n",
       "        vertical-align: top;\n",
       "    }\n",
       "\n",
       "    .dataframe thead tr th {\n",
       "        text-align: left;\n",
       "    }\n",
       "</style>\n",
       "<table border=\"1\" class=\"dataframe\">\n",
       "  <thead>\n",
       "    <tr>\n",
       "      <th></th>\n",
       "      <th>Has Online delivery</th>\n",
       "      <th colspan=\"2\" halign=\"left\">Restaurant ID</th>\n",
       "    </tr>\n",
       "    <tr>\n",
       "      <th></th>\n",
       "      <th></th>\n",
       "      <th>median</th>\n",
       "      <th>count</th>\n",
       "    </tr>\n",
       "  </thead>\n",
       "  <tbody>\n",
       "    <tr>\n",
       "      <th>0</th>\n",
       "      <td>0</td>\n",
       "      <td>16598168.0</td>\n",
       "      <td>4859</td>\n",
       "    </tr>\n",
       "    <tr>\n",
       "      <th>1</th>\n",
       "      <td>1</td>\n",
       "      <td>3400868.0</td>\n",
       "      <td>2653</td>\n",
       "    </tr>\n",
       "  </tbody>\n",
       "</table>\n",
       "</div>"
      ],
      "text/plain": [
       "  Has Online delivery Restaurant ID      \n",
       "                             median count\n",
       "0                   0    16598168.0  4859\n",
       "1                   1     3400868.0  2653"
      ]
     },
     "execution_count": 8,
     "metadata": {},
     "output_type": "execute_result"
    }
   ],
   "source": [
    "# 6. Os restaurantes que aceitam pedido online são também, na média, os restaurantes que mais possuem avaliações registradas?\n",
    "valor_1 = (df1.loc[:, ['Aggregate rating','Restaurant ID','Has Online delivery']]\n",
    "           .groupby('Has Online delivery').agg({'Restaurant ID': ['median','count']}).reset_index())\n",
    "valor_1"
   ]
  },
  {
   "cell_type": "code",
   "execution_count": 9,
   "id": "eb414a82-7cfe-44f4-bf6b-3a156056cf34",
   "metadata": {},
   "outputs": [
    {
     "data": {
      "text/html": [
       "<div>\n",
       "<style scoped>\n",
       "    .dataframe tbody tr th:only-of-type {\n",
       "        vertical-align: middle;\n",
       "    }\n",
       "\n",
       "    .dataframe tbody tr th {\n",
       "        vertical-align: top;\n",
       "    }\n",
       "\n",
       "    .dataframe thead th {\n",
       "        text-align: right;\n",
       "    }\n",
       "</style>\n",
       "<table border=\"1\" class=\"dataframe\">\n",
       "  <thead>\n",
       "    <tr style=\"text-align: right;\">\n",
       "      <th></th>\n",
       "      <th>Has Table booking</th>\n",
       "      <th>Average Cost for two</th>\n",
       "    </tr>\n",
       "  </thead>\n",
       "  <tbody>\n",
       "    <tr>\n",
       "      <th>0</th>\n",
       "      <td>1</td>\n",
       "      <td>62931.512821</td>\n",
       "    </tr>\n",
       "    <tr>\n",
       "      <th>1</th>\n",
       "      <td>0</td>\n",
       "      <td>3460.612436</td>\n",
       "    </tr>\n",
       "  </tbody>\n",
       "</table>\n",
       "</div>"
      ],
      "text/plain": [
       "   Has Table booking  Average Cost for two\n",
       "0                  1          62931.512821\n",
       "1                  0           3460.612436"
      ]
     },
     "metadata": {},
     "output_type": "display_data"
    }
   ],
   "source": [
    "# 7. Os restaurantes que fazem reservas são também, na média, \n",
    "#os restaurantes que possuem o maior valor médio de um prato para duas pessoas?\n",
    "resp = (df1.loc[:, ['Has Table booking', 'Average Cost for two']]\n",
    "        .groupby('Has Table booking').mean()\n",
    "        .sort_values('Average Cost for two', ascending = False).reset_index())\n",
    "display(resp)"
   ]
  },
  {
   "cell_type": "code",
   "execution_count": 17,
   "id": "d8fa7222-9396-4179-98c1-ba7b67dd2860",
   "metadata": {},
   "outputs": [
    {
     "data": {
      "text/html": [
       "<div>\n",
       "<style scoped>\n",
       "    .dataframe tbody tr th:only-of-type {\n",
       "        vertical-align: middle;\n",
       "    }\n",
       "\n",
       "    .dataframe tbody tr th {\n",
       "        vertical-align: top;\n",
       "    }\n",
       "\n",
       "    .dataframe thead th {\n",
       "        text-align: right;\n",
       "    }\n",
       "</style>\n",
       "<table border=\"1\" class=\"dataframe\">\n",
       "  <thead>\n",
       "    <tr style=\"text-align: right;\">\n",
       "      <th></th>\n",
       "      <th>Cuisines</th>\n",
       "      <th>Average Cost for two</th>\n",
       "    </tr>\n",
       "  </thead>\n",
       "  <tbody>\n",
       "    <tr>\n",
       "      <th>0</th>\n",
       "      <td>Japanese</td>\n",
       "      <td>56.406250</td>\n",
       "    </tr>\n",
       "    <tr>\n",
       "      <th>1</th>\n",
       "      <td>BBQ</td>\n",
       "      <td>39.642857</td>\n",
       "    </tr>\n",
       "  </tbody>\n",
       "</table>\n",
       "</div>"
      ],
      "text/plain": [
       "   Cuisines  Average Cost for two\n",
       "0  Japanese             56.406250\n",
       "1       BBQ             39.642857"
      ]
     },
     "execution_count": 17,
     "metadata": {},
     "output_type": "execute_result"
    }
   ],
   "source": [
    "# 8. Os restaurantes do tipo de culinária japonesa dos Estados Unidos da América \n",
    "# possuem um valor médio de prato para duas pessoas maior que as churrascarias americanas (BBQ)\n",
    "linha = (df1['Cuisines'] == 'Japanese') | (df1['Cuisines'] == 'BBQ')\n",
    "df_aux = df1.loc[linha,:]\n",
    "linha1 = df_aux['Country Code'] == 'United States of America'\n",
    "df_aux1 = df_aux.loc[linha1,:]\n",
    "resp = (df_aux1.loc[:, ['Average Cost for two', 'Cuisines']]\n",
    "        .groupby('Cuisines').mean()\n",
    "        .sort_values('Average Cost for two', ascending = False).reset_index())\n",
    "resp"
   ]
  }
 ],
 "metadata": {
  "kernelspec": {
   "display_name": "Python 3 (ipykernel)",
   "language": "python",
   "name": "python3"
  },
  "language_info": {
   "codemirror_mode": {
    "name": "ipython",
    "version": 3
   },
   "file_extension": ".py",
   "mimetype": "text/x-python",
   "name": "python",
   "nbconvert_exporter": "python",
   "pygments_lexer": "ipython3",
   "version": "3.11.3"
  }
 },
 "nbformat": 4,
 "nbformat_minor": 5
}
