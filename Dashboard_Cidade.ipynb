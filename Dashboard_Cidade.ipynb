{
 "cells": [
  {
   "cell_type": "code",
   "execution_count": 2,
   "id": "3d1f1bb3-c1ed-4ed9-a38d-1dcca990c897",
   "metadata": {},
   "outputs": [],
   "source": [
    "import pandas as pd\n",
    "import inflection"
   ]
  },
  {
   "cell_type": "code",
   "execution_count": 3,
   "id": "d9085368-6e84-4b4c-91ff-4c9658f4280b",
   "metadata": {},
   "outputs": [],
   "source": [
    "df = pd.read_csv(\"zomato.csv\")\n",
    "df1 = df.copy()\n"
   ]
  },
  {
   "cell_type": "code",
   "execution_count": 4,
   "id": "8844aa14-015a-4934-8428-e66244e7f834",
   "metadata": {},
   "outputs": [],
   "source": [
    "# Funções\n",
    "\n",
    "#Preenchimento do nome dos países:\n",
    "COUNTRIES = {\n",
    "1: \"India\",\n",
    "14: \"Australia\",\n",
    "30: \"Brazil\",\n",
    "37: \"Canada\",\n",
    "94: \"Indonesia\",\n",
    "148: \"New Zeland\",\n",
    "162: \"Philippines\",\n",
    "166: \"Qatar\",\n",
    "184: \"Singapure\",\n",
    "189: \"South Africa\",\n",
    "191: \"Sri Lanka\",\n",
    "208: \"Turkey\",\n",
    "214: \"United Arab Emirates\",\n",
    "215: \"England\",\n",
    "216: \"United States of America\",\n",
    "}\n",
    "def country_name(country_id):\n",
    "    return COUNTRIES[country_id]\n",
    "\n",
    "#-------------------------------------------------------\n",
    "#Criação do Tipo de Categoria de Comida\n",
    "\n",
    "def create_price_tye(price_range):\n",
    "    if price_range == 1:\n",
    "        return \"cheap\"\n",
    "    elif price_range == 2:\n",
    "        return \"normal\"\n",
    "    elif price_range == 3:\n",
    "        return \"expensive\"\n",
    "    else:\n",
    "        return \"gourmet\"\n",
    "\n",
    "#--------------------------------------------\n",
    "# Renomear as colunas do DataFrame:\n",
    "\n",
    "def rename_columns(dataframe):\n",
    "    df1 = dataframe.copy()\n",
    "    title = lambda x: inflection.titleize(x)\n",
    "    snakecase = lambda x: inflection.underscore(x)\n",
    "    spaces = lambda x: x.replace(\" \", \"\")\n",
    "    cols_old = list(df.columns)\n",
    "    cols_old = list(map(title, cols_old))\n",
    "    cols_old = list(map(spaces, cols_old))\n",
    "    cols_new = list(map(snakecase, cols_old))\n",
    "    df.columns = cols_new\n",
    "    return df1\n",
    "# Limpando os dados\n",
    "df1 = df1.dropna(subset=['Cuisines'])\n",
    "df1[\"Cuisines\"] = df1.loc[:, \"Cuisines\"].apply(lambda x: x.split(\",\")[0])\n",
    "\n",
    "# Convertendo a coluna dos códigos\n",
    "df1['Country Code'] = df1['Country Code'].apply(lambda x: country_name(x))"
   ]
  },
  {
   "cell_type": "code",
   "execution_count": 5,
   "id": "133324f7-b186-4daf-8f22-f4de228bb034",
   "metadata": {},
   "outputs": [
    {
     "data": {
      "text/plain": [
       "'Nagpur'"
      ]
     },
     "execution_count": 5,
     "metadata": {},
     "output_type": "execute_result"
    }
   ],
   "source": [
    "# 1. Qual o nome da cidade que possui mais restaurantes registrados?\n",
    "df_aux = df1.copy()\n",
    "mais_rest = (df_aux.loc[:,['City','Restaurant Name']]\n",
    "             .groupby('City').count()\n",
    "             .sort_values('Restaurant Name', ascending=False).reset_index())\n",
    "mais_rest.iloc[0,0]"
   ]
  },
  {
   "cell_type": "code",
   "execution_count": 6,
   "id": "93b99613-850b-48cf-960b-8f399730d69b",
   "metadata": {},
   "outputs": [
    {
     "data": {
      "text/plain": [
       "'Kolkata'"
      ]
     },
     "execution_count": 6,
     "metadata": {},
     "output_type": "execute_result"
    }
   ],
   "source": [
    "# 2. Qual o nome da cidade que possui mais restaurantes com nota média acima de 4?\n",
    "df_aux = df1.loc[df1['Aggregate rating'] >= 4, :]\n",
    "rating_four = (df_aux.loc[:, ['City', 'Restaurant ID']]\n",
    "               .groupby('City').count()\n",
    "               .sort_values('Restaurant ID', ascending = False).reset_index())\n",
    "rating_four.iloc[0,0]"
   ]
  },
  {
   "cell_type": "code",
   "execution_count": 7,
   "id": "ca04daae-13a4-4684-8fdc-17a14aa7484b",
   "metadata": {},
   "outputs": [
    {
     "data": {
      "text/plain": [
       "'Gangtok'"
      ]
     },
     "execution_count": 7,
     "metadata": {},
     "output_type": "execute_result"
    }
   ],
   "source": [
    "# 3. Qual o nome da cidade que possui mais restaurantes com nota média abaixo de 2.5?\n",
    "df_aux = df1.loc[df1['Aggregate rating'] <= 2.5, :]\n",
    "rating_four = (df_aux.loc[:, ['City', 'Restaurant ID']]\n",
    "               .groupby('City').count()\n",
    "               .sort_values('Restaurant ID', ascending = False).reset_index())\n",
    "rating_four.iloc[0,0]\n"
   ]
  },
  {
   "cell_type": "code",
   "execution_count": 8,
   "id": "cba20a5a-5e8b-4bc7-a347-31b1ef852b00",
   "metadata": {},
   "outputs": [
    {
     "data": {
      "text/plain": [
       "'Adelaide'"
      ]
     },
     "execution_count": 8,
     "metadata": {},
     "output_type": "execute_result"
    }
   ],
   "source": [
    "# 4. Qual o nome da cidade que possui o maior valor médio de um prato para dois?\n",
    "df_aux = (df1.loc[:, ['City','Average Cost for two']]\n",
    "          .groupby('City').mean()\n",
    "          .sort_values('Average Cost for two', ascending = False).reset_index())\n",
    "pd.set_option('float_format', '{:,.2f}'.format)\n",
    "df_aux.iloc[0,0]"
   ]
  },
  {
   "cell_type": "code",
   "execution_count": 9,
   "id": "aff9bee7-084a-4844-ab8a-bc60447d41a1",
   "metadata": {},
   "outputs": [
    {
     "data": {
      "text/plain": [
       "'Nagpur'"
      ]
     },
     "execution_count": 9,
     "metadata": {},
     "output_type": "execute_result"
    }
   ],
   "source": [
    "# 5. Qual o nome da cidade que possui a maior quantidade de tipos de culinária distintas?\n",
    "df_aux = df1.copy()\n",
    "cousine = (df_aux.loc[:, ['City', 'Cuisines']]\n",
    "          .groupby('City').count()\n",
    "          .sort_values('Cuisines', ascending=False).reset_index())\n",
    "cousine.iloc[0,0]"
   ]
  },
  {
   "cell_type": "code",
   "execution_count": 10,
   "id": "f0d8f673-e842-48d8-b147-7f9f41b9ca12",
   "metadata": {},
   "outputs": [
    {
     "data": {
      "text/plain": [
       "'Bangalore'"
      ]
     },
     "execution_count": 10,
     "metadata": {},
     "output_type": "execute_result"
    }
   ],
   "source": [
    "# 6. Qual o nome da cidade que possui a maior quantidade de restaurantes que fazem reservas?\n",
    "df1_aux = df1.loc[df1['Has Table booking'] == 1, :]\n",
    "df_aux = (df1_aux.loc[:, ['City', 'Has Table booking']]\n",
    "          .groupby('City').count()\n",
    "          .sort_values('Has Table booking', ascending=False).reset_index())\n",
    "df_aux.iloc[0,0]"
   ]
  },
  {
   "cell_type": "code",
   "execution_count": 11,
   "id": "eb414a82-7cfe-44f4-bf6b-3a156056cf34",
   "metadata": {},
   "outputs": [
    {
     "data": {
      "text/plain": [
       "'Aurangabad'"
      ]
     },
     "execution_count": 11,
     "metadata": {},
     "output_type": "execute_result"
    }
   ],
   "source": [
    "# 7. Qual o nome da cidade que possui a maior quantidade de restaurantes que fazem entregas?\n",
    "df_aux = df1.loc[df1['Is delivering now'] == 1, :]\n",
    "delivery = (df_aux.loc[:, ['City', 'Is delivering now']]\n",
    "            .groupby('City').count()\n",
    "            .sort_values('Is delivering now', ascending = False).reset_index())\n",
    "delivery.iloc[0,0]"
   ]
  },
  {
   "cell_type": "code",
   "execution_count": 12,
   "id": "d8fa7222-9396-4179-98c1-ba7b67dd2860",
   "metadata": {},
   "outputs": [
    {
     "data": {
      "text/plain": [
       "'Bhopal'"
      ]
     },
     "execution_count": 12,
     "metadata": {},
     "output_type": "execute_result"
    }
   ],
   "source": [
    "# 8. Qual o nome da cidade que possui a maior quantidade de restaurantes que aceitam pedidos online?\n",
    "df_aux = df1.loc[df1['Has Online delivery'] == 1, :].drop_duplicates(subset='Restaurant ID', keep='first')\n",
    "online = (df_aux.loc[:, ['City', 'Has Online delivery']]\n",
    "          .groupby('City').count()\n",
    "          .sort_values('Has Online delivery', ascending = False).reset_index())\n",
    "online.iloc[0,0]"
   ]
  }
 ],
 "metadata": {
  "kernelspec": {
   "display_name": "Python 3 (ipykernel)",
   "language": "python",
   "name": "python3"
  },
  "language_info": {
   "codemirror_mode": {
    "name": "ipython",
    "version": 3
   },
   "file_extension": ".py",
   "mimetype": "text/x-python",
   "name": "python",
   "nbconvert_exporter": "python",
   "pygments_lexer": "ipython3",
   "version": "3.11.3"
  },
  "widgets": {
   "application/vnd.jupyter.widget-state+json": {
    "state": {},
    "version_major": 2,
    "version_minor": 0
   }
  }
 },
 "nbformat": 4,
 "nbformat_minor": 5
}
