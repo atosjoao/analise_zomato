{
 "cells": [
  {
   "cell_type": "code",
   "execution_count": 7,
   "id": "3d1f1bb3-c1ed-4ed9-a38d-1dcca990c897",
   "metadata": {},
   "outputs": [],
   "source": [
    "import pandas as pd\n",
    "import inflection\n"
   ]
  },
  {
   "cell_type": "code",
   "execution_count": 8,
   "id": "d9085368-6e84-4b4c-91ff-4c9658f4280b",
   "metadata": {},
   "outputs": [],
   "source": [
    "df = pd.read_csv(\"C:\\\\Users\\\\jatos\\\\Desktop\\\\JA\\\\Material Data Science\\Datasets\\\\archive\\\\zomato.csv\")\n",
    "df1 = df.copy()\n"
   ]
  },
  {
   "cell_type": "code",
   "execution_count": 9,
   "id": "8844aa14-015a-4934-8428-e66244e7f834",
   "metadata": {},
   "outputs": [],
   "source": [
    "# Funções\n",
    "\n",
    "#Preenchimento do nome dos países:\n",
    "COUNTRIES = {\n",
    "1: \"India\",\n",
    "14: \"Australia\",\n",
    "30: \"Brazil\",\n",
    "37: \"Canada\",\n",
    "94: \"Indonesia\",\n",
    "148: \"New Zeland\",\n",
    "162: \"Philippines\",\n",
    "166: \"Qatar\",\n",
    "184: \"Singapure\",\n",
    "189: \"South Africa\",\n",
    "191: \"Sri Lanka\",\n",
    "208: \"Turkey\",\n",
    "214: \"United Arab Emirates\",\n",
    "215: \"England\",\n",
    "216: \"United States of America\",\n",
    "}\n",
    "def country_name(country_id):\n",
    "    return COUNTRIES[country_id]\n",
    "\n",
    "#-------------------------------------------------------\n",
    "#Criação do Tipo de Categoria de Comida\n",
    "\n",
    "def create_price_tye(price_range):\n",
    "    if price_range == 1:\n",
    "        return \"cheap\"\n",
    "    elif price_range == 2:\n",
    "        return \"normal\"\n",
    "    elif price_range == 3:\n",
    "        return \"expensive\"\n",
    "    else:\n",
    "        return \"gourmet\"\n",
    "\n",
    "#--------------------------------------------------------\n",
    "# Criação do nome das Cores\n",
    "\n",
    "COLORS = {\n",
    "\"3F7E00\": \"darkgreen\",\n",
    "\"5BA829\": \"green\",\n",
    "\"9ACD32\": \"lightgreen\",\n",
    "\"CDD614\": \"orange\",\n",
    "\"FFBA00\": \"red\",\n",
    "\"CBCBC8\": \"darkred\",\n",
    "\"FF7800\": \"darkred\",\n",
    "}\n",
    "def color_name(color_code):\n",
    "    return COLORS[color_code]\n",
    "\n",
    "#--------------------------------------------\n",
    "# Renomear as colunas do DataFrame:\n",
    "\n",
    "def rename_columns(dataframe):\n",
    "    df1 = dataframe.copy()\n",
    "    title = lambda x: inflection.titleize(x)\n",
    "    snakecase = lambda x: inflection.underscore(x)\n",
    "    spaces = lambda x: x.replace(\" \", \"\")\n",
    "    cols_old = list(df.columns)\n",
    "    cols_old = list(map(title, cols_old))\n",
    "    cols_old = list(map(spaces, cols_old))\n",
    "    cols_new = list(map(snakecase, cols_old))\n",
    "    df.columns = cols_new\n",
    "    return df1\n",
    "# Limpando os dados\n",
    "df1 = df1.dropna(subset=['Cuisines'])\n",
    "df1[\"Cuisines\"] = df1.loc[:, \"Cuisines\"].apply(lambda x: x.split(\",\")[0])\n",
    "\n",
    "# Convertendo a coluna dos códigos\n",
    "df1['Country Code'] = df1['Country Code'].apply(lambda x: country_name(x))"
   ]
  },
  {
   "cell_type": "code",
   "execution_count": 10,
   "id": "133324f7-b186-4daf-8f22-f4de228bb034",
   "metadata": {},
   "outputs": [
    {
     "name": "stdout",
     "output_type": "stream",
     "text": [
      "Singapore\n"
     ]
    }
   ],
   "source": [
    "# 1. Qual o nome da cidade que possui mais restaurantes registrados?\n",
    "df_aux = df1.drop_duplicates(subset = 'Restaurant Name', keep = 'first')\n",
    "mais_rest = (df_aux.loc[:,['City','Restaurant Name']]\n",
    "             .groupby('City').count()\n",
    "             .sort_values('Restaurant Name', ascending=False).reset_index())\n",
    "print(mais_rest.iloc[0,0])"
   ]
  },
  {
   "cell_type": "code",
   "execution_count": 11,
   "id": "93b99613-850b-48cf-960b-8f399730d69b",
   "metadata": {},
   "outputs": [
    {
     "name": "stdout",
     "output_type": "stream",
     "text": [
      "London\n"
     ]
    }
   ],
   "source": [
    "# 2. Qual o nome da cidade que possui mais restaurantes com nota média acima de 4?\n",
    "linha = df1['Aggregate rating'] >= 4\n",
    "df_aux = df1.loc[linha, :]\n",
    "df_aux = df_aux.drop_duplicates(subset = 'Restaurant ID', keep = 'first')\n",
    "rating_four = (df_aux.loc[:, ['City', 'Restaurant ID']]\n",
    "               .groupby('City').count()\n",
    "               .sort_values('Restaurant ID', ascending = False).reset_index())\n",
    "print(rating_four.iloc[0,0])"
   ]
  },
  {
   "cell_type": "code",
   "execution_count": 12,
   "id": "ca04daae-13a4-4684-8fdc-17a14aa7484b",
   "metadata": {},
   "outputs": [
    {
     "name": "stdout",
     "output_type": "stream",
     "text": [
      "Gangtok\n"
     ]
    }
   ],
   "source": [
    "# 3. Qual o nome da cidade que possui mais restaurantes com nota média abaixo de 2.5?\n",
    "linha = df1['Aggregate rating'] <= 2.5\n",
    "df_aux = df1.loc[linha, :]\n",
    "df_aux = df_aux.drop_duplicates(subset = 'Restaurant ID', keep = 'first')\n",
    "rating_four = (df_aux.loc[:, ['City', 'Restaurant ID']]\n",
    "               .groupby('City').count()\n",
    "               .sort_values('Restaurant ID', ascending = False).reset_index())\n",
    "print(rating_four.iloc[0,0])\n"
   ]
  },
  {
   "cell_type": "code",
   "execution_count": 13,
   "id": "cba20a5a-5e8b-4bc7-a347-31b1ef852b00",
   "metadata": {},
   "outputs": [
    {
     "name": "stdout",
     "output_type": "stream",
     "text": [
      "Adelaide\n"
     ]
    }
   ],
   "source": [
    "# 4. Qual o nome da cidade que possui o maior valor médio de um prato para dois?\n",
    "df_aux = (df1.loc[:, ['City','Average Cost for two']]\n",
    "          .groupby('City').mean()\n",
    "          .sort_values('Average Cost for two', ascending = False).reset_index())\n",
    "pd.set_option('float_format', '{:,.2f}'.format)\n",
    "print(df_aux.iloc[0,0])"
   ]
  },
  {
   "cell_type": "code",
   "execution_count": 14,
   "id": "aff9bee7-084a-4844-ab8a-bc60447d41a1",
   "metadata": {},
   "outputs": [
    {
     "name": "stdout",
     "output_type": "stream",
     "text": [
      "Brasília\n"
     ]
    }
   ],
   "source": [
    "# 5. Qual o nome da cidade que possui a maior quantidade de tipos de culinária distintas?\n",
    "df_aux = df1.drop_duplicates(subset='Cuisines', keep='first')\n",
    "cousine = (df_aux.loc[:, ['City', 'Cuisines']]\n",
    "          .groupby('City').count()\n",
    "          .sort_values('Cuisines', ascending=False).reset_index())\n",
    "print(cousine.iloc[0,0])"
   ]
  },
  {
   "cell_type": "code",
   "execution_count": 15,
   "id": "f0d8f673-e842-48d8-b147-7f9f41b9ca12",
   "metadata": {},
   "outputs": [
    {
     "name": "stdout",
     "output_type": "stream",
     "text": [
      "Bangalore\n"
     ]
    }
   ],
   "source": [
    "# 6. Qual o nome da cidade que possui a maior quantidade de restaurantes que fazem reservas?\n",
    "linha = df1['Has Table booking'] == 1\n",
    "df1_aux = df1.loc[linha, :]\n",
    "df_aux = (df1_aux.loc[:, ['City', 'Has Table booking']]\n",
    "          .groupby('City').count()\n",
    "          .sort_values('Has Table booking', ascending=False).reset_index())\n",
    "print(df_aux.iloc[0,0])"
   ]
  },
  {
   "cell_type": "code",
   "execution_count": 16,
   "id": "eb414a82-7cfe-44f4-bf6b-3a156056cf34",
   "metadata": {},
   "outputs": [
    {
     "name": "stdout",
     "output_type": "stream",
     "text": [
      "Aurangabad\n"
     ]
    }
   ],
   "source": [
    "# 7. Qual o nome da cidade que possui a maior quantidade de restaurantes que fazem entregas?\n",
    "linha = df1['Is delivering now'] == 1\n",
    "df_aux = df1.loc[linha, :]\n",
    "delivery = (df_aux.loc[:, ['City', 'Is delivering now']]\n",
    "            .groupby('City').count()\n",
    "            .sort_values('Is delivering now', ascending = False).reset_index())\n",
    "print(delivery.iloc[0,0])"
   ]
  },
  {
   "cell_type": "code",
   "execution_count": 17,
   "id": "d8fa7222-9396-4179-98c1-ba7b67dd2860",
   "metadata": {},
   "outputs": [
    {
     "name": "stdout",
     "output_type": "stream",
     "text": [
      "Bhopal\n"
     ]
    }
   ],
   "source": [
    "# 8. Qual o nome da cidade que possui a maior quantidade de restaurantes que aceitam pedidos online?\n",
    "linha = df1['Has Online delivery'] == 1\n",
    "df_aux = df1.loc[linha, :]\n",
    "df_aux = df_aux.drop_duplicates(subset='Restaurant ID', keep='first')\n",
    "online = (df_aux.loc[:, ['City', 'Has Online delivery']]\n",
    "          .groupby('City').count()\n",
    "          .sort_values('Has Online delivery', ascending = False).reset_index())\n",
    "print(online.iloc[0,0])"
   ]
  },
  {
   "cell_type": "code",
   "execution_count": 18,
   "id": "725faaf9-8911-4650-941a-c7c175da0c5d",
   "metadata": {},
   "outputs": [
    {
     "data": {
      "text/html": [
       "<div>\n",
       "<style scoped>\n",
       "    .dataframe tbody tr th:only-of-type {\n",
       "        vertical-align: middle;\n",
       "    }\n",
       "\n",
       "    .dataframe tbody tr th {\n",
       "        vertical-align: top;\n",
       "    }\n",
       "\n",
       "    .dataframe thead th {\n",
       "        text-align: right;\n",
       "    }\n",
       "</style>\n",
       "<table border=\"1\" class=\"dataframe\">\n",
       "  <thead>\n",
       "    <tr style=\"text-align: right;\">\n",
       "      <th></th>\n",
       "      <th>City</th>\n",
       "      <th>Restaurant ID</th>\n",
       "    </tr>\n",
       "  </thead>\n",
       "  <tbody>\n",
       "    <tr>\n",
       "      <th>0</th>\n",
       "      <td>Nagpur</td>\n",
       "      <td>99</td>\n",
       "    </tr>\n",
       "    <tr>\n",
       "      <th>1</th>\n",
       "      <td>Surat</td>\n",
       "      <td>95</td>\n",
       "    </tr>\n",
       "    <tr>\n",
       "      <th>2</th>\n",
       "      <td>Birmingham</td>\n",
       "      <td>95</td>\n",
       "    </tr>\n",
       "    <tr>\n",
       "      <th>3</th>\n",
       "      <td>Abu Dhabi</td>\n",
       "      <td>95</td>\n",
       "    </tr>\n",
       "    <tr>\n",
       "      <th>4</th>\n",
       "      <td>Doha</td>\n",
       "      <td>94</td>\n",
       "    </tr>\n",
       "    <tr>\n",
       "      <th>...</th>\n",
       "      <td>...</td>\n",
       "      <td>...</td>\n",
       "    </tr>\n",
       "    <tr>\n",
       "      <th>120</th>\n",
       "      <td>Ghaziabad</td>\n",
       "      <td>1</td>\n",
       "    </tr>\n",
       "    <tr>\n",
       "      <th>121</th>\n",
       "      <td>Gandhinagar</td>\n",
       "      <td>1</td>\n",
       "    </tr>\n",
       "    <tr>\n",
       "      <th>122</th>\n",
       "      <td>San Juan City</td>\n",
       "      <td>1</td>\n",
       "    </tr>\n",
       "    <tr>\n",
       "      <th>123</th>\n",
       "      <td>Roodepoort</td>\n",
       "      <td>1</td>\n",
       "    </tr>\n",
       "    <tr>\n",
       "      <th>124</th>\n",
       "      <td>Zirakpur</td>\n",
       "      <td>1</td>\n",
       "    </tr>\n",
       "  </tbody>\n",
       "</table>\n",
       "<p>125 rows × 2 columns</p>\n",
       "</div>"
      ],
      "text/plain": [
       "              City  Restaurant ID\n",
       "0           Nagpur             99\n",
       "1            Surat             95\n",
       "2       Birmingham             95\n",
       "3        Abu Dhabi             95\n",
       "4             Doha             94\n",
       "..             ...            ...\n",
       "120      Ghaziabad              1\n",
       "121    Gandhinagar              1\n",
       "122  San Juan City              1\n",
       "123     Roodepoort              1\n",
       "124       Zirakpur              1\n",
       "\n",
       "[125 rows x 2 columns]"
      ]
     },
     "execution_count": 18,
     "metadata": {},
     "output_type": "execute_result"
    }
   ],
   "source": [
    "# 9. Qual a cidade com o maior número de restaurantes?\n",
    "\n",
    "df_aux = df_aux.drop_duplicates(subset='Restaurant ID', keep='first')\n",
    "df_aux = (df1.loc[:, ['City', 'Restaurant ID']]\n",
    "          .groupby('City').count()\n",
    "          .sort_values('Restaurant ID', ascending = False).reset_index())\n",
    "df_aux"
   ]
  },
  {
   "cell_type": "code",
   "execution_count": null,
   "id": "b469646c-4116-4b5c-b341-e2301131d157",
   "metadata": {},
   "outputs": [],
   "source": []
  },
  {
   "cell_type": "code",
   "execution_count": null,
   "id": "e3199750-778f-4548-9d86-aad8d4dfea5c",
   "metadata": {},
   "outputs": [],
   "source": [
    "\n"
   ]
  }
 ],
 "metadata": {
  "kernelspec": {
   "display_name": "Python 3 (ipykernel)",
   "language": "python",
   "name": "python3"
  },
  "language_info": {
   "codemirror_mode": {
    "name": "ipython",
    "version": 3
   },
   "file_extension": ".py",
   "mimetype": "text/x-python",
   "name": "python",
   "nbconvert_exporter": "python",
   "pygments_lexer": "ipython3",
   "version": "3.11.3"
  },
  "widgets": {
   "application/vnd.jupyter.widget-state+json": {
    "state": {},
    "version_major": 2,
    "version_minor": 0
   }
  }
 },
 "nbformat": 4,
 "nbformat_minor": 5
}
