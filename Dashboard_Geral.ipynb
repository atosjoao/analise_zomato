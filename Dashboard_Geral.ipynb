{
 "cells": [
  {
   "cell_type": "code",
   "execution_count": 2,
   "id": "3d1f1bb3-c1ed-4ed9-a38d-1dcca990c897",
   "metadata": {},
   "outputs": [],
   "source": [
    "import pandas as pd\n",
    "import plotly.express as px\n",
    "import plotly.graph_objects as go\n",
    "import streamlit as st\n",
    "import folium\n",
    "import inflection\n",
    "from folium.plugins import MarkerCluster\n",
    "from folium import FeatureGroup"
   ]
  },
  {
   "cell_type": "code",
   "execution_count": 3,
   "id": "d9085368-6e84-4b4c-91ff-4c9658f4280b",
   "metadata": {},
   "outputs": [],
   "source": [
    "df = pd.read_csv(\"C:\\\\Users\\\\jatos\\\\Desktop\\\\JA\\\\Material Data Science\\Datasets\\\\archive\\\\zomato.csv\")\n",
    "df1 = df.copy()\n"
   ]
  },
  {
   "cell_type": "code",
   "execution_count": 4,
   "id": "acbad299-b66d-46a5-9f4a-60a3ac33d87f",
   "metadata": {},
   "outputs": [],
   "source": [
    "# Funções\n",
    "\n",
    "#Preenchimento do nome dos países:\n",
    "COUNTRIES = {\n",
    "1: \"India\",\n",
    "14: \"Australia\",\n",
    "30: \"Brazil\",\n",
    "37: \"Canada\",\n",
    "94: \"Indonesia\",\n",
    "148: \"New Zeland\",\n",
    "162: \"Philippines\",\n",
    "166: \"Qatar\",\n",
    "184: \"Singapure\",\n",
    "189: \"South Africa\",\n",
    "191: \"Sri Lanka\",\n",
    "208: \"Turkey\",\n",
    "214: \"United Arab Emirates\",\n",
    "215: \"England\",\n",
    "216: \"United States of America\",\n",
    "}\n",
    "def country_name(country_id):\n",
    "    return COUNTRIES[country_id]\n",
    "\n",
    "#-------------------------------------------------------\n",
    "#Criação do Tipo de Categoria de Comida\n",
    "\n",
    "def create_price_type(price_range):\n",
    "    if price_range == 1:\n",
    "        return \"cheap\"\n",
    "    elif price_range == 2:\n",
    "        return \"normal\"\n",
    "    elif price_range == 3:\n",
    "        return \"expensive\"\n",
    "    else:\n",
    "        return \"gourmet\"\n",
    "\n",
    "\n",
    "#--------------------------------------------------------\n",
    "# Criação do nome das Cores\n",
    "\n",
    "COLORS = {\n",
    "\"3F7E00\": \"darkgreen\",\n",
    "\"5BA829\": \"green\",\n",
    "\"9ACD32\": \"lightgreen\",\n",
    "\"CDD614\": \"orange\",\n",
    "\"FFBA00\": \"red\",\n",
    "\"CBCBC8\": \"darkred\",\n",
    "\"FF7800\": \"darkred\",\n",
    "}\n",
    "def color_name(color_code):\n",
    "    return COLORS[color_code]\n",
    "\n",
    "#--------------------------------------------\n",
    "# Renomear as colunas do DataFrame:\n",
    "\n",
    "def rename_columns(dataframe):\n",
    "    df1 = dataframe.copy()\n",
    "    title = lambda x: inflection.titleize(x)\n",
    "    snakecase = lambda x: inflection.underscore(x)\n",
    "    spaces = lambda x: x.replace(\" \", \"\")\n",
    "    cols_old = list(df.columns)\n",
    "    cols_old = list(map(title, cols_old))\n",
    "    cols_old = list(map(spaces, cols_old))\n",
    "    cols_new = list(map(snakecase, cols_old))\n",
    "    df.columns = cols_new\n",
    "    return df1\n"
   ]
  },
  {
   "cell_type": "code",
   "execution_count": 15,
   "id": "1efa8003-4ae3-41b3-ab35-0d78d531da2f",
   "metadata": {},
   "outputs": [
    {
     "data": {
      "text/plain": [
       "5914"
      ]
     },
     "execution_count": 15,
     "metadata": {},
     "output_type": "execute_result"
    }
   ],
   "source": [
    "# 1. Quantos restaurantes únicos estão registrados?\n",
    "df1['Restaurant Name'].nunique()"
   ]
  },
  {
   "cell_type": "code",
   "execution_count": 6,
   "id": "13c84101-9cb9-4949-8faa-a7341fa2373a",
   "metadata": {},
   "outputs": [
    {
     "name": "stdout",
     "output_type": "stream",
     "text": [
      "15\n"
     ]
    }
   ],
   "source": [
    "# 2. Quantos países únicos estão registrados?\n",
    "countrys = df1.loc[:, 'Country Code'].nunique()\n",
    "print(countrys)"
   ]
  },
  {
   "cell_type": "code",
   "execution_count": 7,
   "id": "1756bebf-ef6d-47ff-a1b0-7a2333b8a878",
   "metadata": {},
   "outputs": [
    {
     "name": "stdout",
     "output_type": "stream",
     "text": [
      "125\n"
     ]
    }
   ],
   "source": [
    "# 3. Quantas cidades únicas estão registradas?\n",
    "citys = df1.loc[:, 'City'].nunique()\n",
    "print(citys)"
   ]
  },
  {
   "cell_type": "code",
   "execution_count": 8,
   "id": "f35d959c-5b32-456b-a5ab-b41b6d399f92",
   "metadata": {},
   "outputs": [
    {
     "name": "stdout",
     "output_type": "stream",
     "text": [
      "7527\n"
     ]
    }
   ],
   "source": [
    "# 4. Qual o total de avaliações feitas?\n",
    "av = df1.loc[:, 'Aggregate rating'].count()\n",
    "print(av)"
   ]
  },
  {
   "cell_type": "code",
   "execution_count": 9,
   "id": "e9e16618-7cac-431b-8994-dc2911703c39",
   "metadata": {},
   "outputs": [
    {
     "name": "stdout",
     "output_type": "stream",
     "text": [
      "2832\n"
     ]
    }
   ],
   "source": [
    "# 5. Qual o total de tipos de culinária registrados?\n",
    "cousine = df1.loc[:, 'Cuisines'].nunique()\n",
    "print(cousine)"
   ]
  }
 ],
 "metadata": {
  "kernelspec": {
   "display_name": "Python 3 (ipykernel)",
   "language": "python",
   "name": "python3"
  },
  "language_info": {
   "codemirror_mode": {
    "name": "ipython",
    "version": 3
   },
   "file_extension": ".py",
   "mimetype": "text/x-python",
   "name": "python",
   "nbconvert_exporter": "python",
   "pygments_lexer": "ipython3",
   "version": "3.11.3"
  },
  "widgets": {
   "application/vnd.jupyter.widget-state+json": {
    "state": {},
    "version_major": 2,
    "version_minor": 0
   }
  }
 },
 "nbformat": 4,
 "nbformat_minor": 5
}
