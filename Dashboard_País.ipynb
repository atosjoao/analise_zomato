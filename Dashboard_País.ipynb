{
 "cells": [
  {
   "cell_type": "code",
   "execution_count": 61,
   "id": "3d1f1bb3-c1ed-4ed9-a38d-1dcca990c897",
   "metadata": {},
   "outputs": [],
   "source": [
    "import pandas as pd\n",
    "import inflection"
   ]
  },
  {
   "cell_type": "code",
   "execution_count": 18,
   "id": "d9085368-6e84-4b4c-91ff-4c9658f4280b",
   "metadata": {},
   "outputs": [],
   "source": [
    "df = pd.read_csv(\"C:\\\\Users\\\\jatos\\\\Desktop\\\\JA\\\\Material Data Science\\Datasets\\\\archive\\\\zomato.csv\")\n",
    "df1 = df.copy()"
   ]
  },
  {
   "cell_type": "code",
   "execution_count": 19,
   "id": "8844aa14-015a-4934-8428-e66244e7f834",
   "metadata": {
    "tags": []
   },
   "outputs": [
    {
     "name": "stderr",
     "output_type": "stream",
     "text": [
      "C:\\Users\\jatos\\AppData\\Local\\Temp\\ipykernel_18168\\926354510.py:68: SettingWithCopyWarning:\n",
      "\n",
      "\n",
      "A value is trying to be set on a copy of a slice from a DataFrame.\n",
      "Try using .loc[row_indexer,col_indexer] = value instead\n",
      "\n",
      "See the caveats in the documentation: https://pandas.pydata.org/pandas-docs/stable/user_guide/indexing.html#returning-a-view-versus-a-copy\n",
      "\n",
      "C:\\Users\\jatos\\AppData\\Local\\Temp\\ipykernel_18168\\926354510.py:71: SettingWithCopyWarning:\n",
      "\n",
      "\n",
      "A value is trying to be set on a copy of a slice from a DataFrame.\n",
      "Try using .loc[row_indexer,col_indexer] = value instead\n",
      "\n",
      "See the caveats in the documentation: https://pandas.pydata.org/pandas-docs/stable/user_guide/indexing.html#returning-a-view-versus-a-copy\n",
      "\n"
     ]
    }
   ],
   "source": [
    "# Funções\n",
    "\n",
    "# Renomear as colunas do DataFrame:\n",
    "def rename_columns(dataframe):\n",
    "    df1 = dataframe.copy()\n",
    "    title = lambda x: inflection.titleize(x)\n",
    "    snakecase = lambda x: inflection.underscore(x)\n",
    "    spaces = lambda x: x.replace(\" \", \"\")\n",
    "    cols_old = list(df.columns)\n",
    "    cols_old = list(map(title, cols_old))\n",
    "    cols_old = list(map(spaces, cols_old))\n",
    "    cols_new = list(map(snakecase, cols_old))\n",
    "    df.columns = cols_new\n",
    "    return df\n",
    "df1 = rename_columns(df)\n",
    "#Preenchimento do nome dos países:\n",
    "COUNTRIES = {\n",
    "1: \"India\",\n",
    "14: \"Australia\",\n",
    "30: \"Brazil\",\n",
    "37: \"Canada\",\n",
    "94: \"Indonesia\",\n",
    "148: \"New Zeland\",\n",
    "162: \"Philippines\",\n",
    "166: \"Qatar\",\n",
    "184: \"Singapure\",\n",
    "189: \"South Africa\",\n",
    "191: \"Sri Lanka\",\n",
    "208: \"Turkey\",\n",
    "214: \"United Arab Emirates\",\n",
    "215: \"England\",\n",
    "216: \"United States of America\",\n",
    "}\n",
    "def country_name(country_id):\n",
    "    return COUNTRIES[country_id]\n",
    "\n",
    "#-------------------------------------------------------\n",
    "#Criação do Tipo de Categoria de Comida\n",
    "\n",
    "def create_price_type(price_range):\n",
    "    if price_range == 1:\n",
    "        return \"cheap\"\n",
    "    elif price_range == 2:\n",
    "        return \"normal\"\n",
    "    elif price_range == 3:\n",
    "        return \"expensive\"\n",
    "    else:\n",
    "        return \"gourmet\"\n",
    "df1['price_range'] = df1['price_range'].apply(lambda x: create_price_type(x))\n",
    "#--------------------------------------------------------\n",
    "# Criação do nome das Cores\n",
    "\n",
    "COLORS = {\n",
    "\"3F7E00\": \"darkgreen\",\n",
    "\"5BA829\": \"green\",\n",
    "\"9ACD32\": \"lightgreen\",\n",
    "\"CDD614\": \"orange\",\n",
    "\"FFBA00\": \"red\",\n",
    "\"CBCBC8\": \"darkred\",\n",
    "\"FF7800\": \"darkred\",\n",
    "}\n",
    "def color_name(color_code):\n",
    "    return COLORS[color_code]\n",
    "df1['rating_color'] = df1['rating_color'].apply(lambda x: color_name(x))\n",
    "#--------------------------------------------\n",
    "# Limpando os dados\n",
    "df1 = df1.dropna(subset=['cuisines'])\n",
    "df1['cuisines'] = df1.loc[:, 'cuisines'].apply(lambda x: x.split(\",\")[0])\n",
    "\n",
    "# Convertendo a coluna dos códigos\n",
    "df1['country_code'] = df1['country_code'].apply(lambda x: country_name(x))\n",
    "\n"
   ]
  },
  {
   "cell_type": "code",
   "execution_count": 68,
   "id": "a3ac2fd5-8041-414b-8d85-14761d552083",
   "metadata": {},
   "outputs": [
    {
     "data": {
      "text/plain": [
       "'India'"
      ]
     },
     "execution_count": 68,
     "metadata": {},
     "output_type": "execute_result"
    }
   ],
   "source": [
    "# 1. Qual o nome do país que possui mais cidades registradas?\n",
    "mais_cidades = (df1.loc[:, ['country_code', 'city']]\n",
    "                .groupby('country_code')\n",
    "                .count().sort_values('city', ascending=False).reset_index())\n",
    "mais_cidades.iloc[0,0]"
   ]
  },
  {
   "cell_type": "code",
   "execution_count": 69,
   "id": "4bcffe91-1f65-4f97-a32e-eaf707e2c857",
   "metadata": {},
   "outputs": [
    {
     "data": {
      "text/plain": [
       "'India'"
      ]
     },
     "execution_count": 69,
     "metadata": {},
     "output_type": "execute_result"
    }
   ],
   "source": [
    "# 2. Qual o nome do país que possui mais restaurantes registrados?\n",
    "mais_rest1 = (df1.loc[:, ['restaurant_id', 'country_code']]\n",
    "             .groupby('country_code').nunique()\n",
    "             .sort_values('restaurant_id', ascending = False).reset_index())\n",
    "mais_rest1.iloc[0,0]"
   ]
  },
  {
   "cell_type": "code",
   "execution_count": 70,
   "id": "377460da-390f-4daa-b072-75fb73cc0e94",
   "metadata": {},
   "outputs": [
    {
     "data": {
      "text/plain": [
       "'United States of America'"
      ]
     },
     "execution_count": 70,
     "metadata": {},
     "output_type": "execute_result"
    }
   ],
   "source": [
    "# 3. Qual o nome do país que possui mais restaurantes com o nível de preço igual a 4 registrados?\n",
    "\n",
    "range_four = (df1.loc[df1['price_range'] == 'gourmet', ['country_code', 'price_range']]\n",
    "                 .groupby('country_code').count()\n",
    "                 .sort_values('price_range', ascending = False).reset_index())\n",
    "range_four.iloc[0,0]"
   ]
  },
  {
   "cell_type": "code",
   "execution_count": 71,
   "id": "48c1f64c-b300-4542-b8cb-637e3c2cc98d",
   "metadata": {},
   "outputs": [
    {
     "data": {
      "text/plain": [
       "'India'"
      ]
     },
     "execution_count": 71,
     "metadata": {},
     "output_type": "execute_result"
    }
   ],
   "source": [
    "# 4. Qual o nome do país que possui a maior quantidade de tipos de culinária distintos?\n",
    "cousine = (df1.loc[:, ['country_code', 'cuisines']]\n",
    "          .groupby('country_code').nunique()\n",
    "          .sort_values('cuisines', ascending=False).reset_index())\n",
    "cousine.iloc[0,0]"
   ]
  },
  {
   "cell_type": "code",
   "execution_count": 73,
   "id": "b7c9d450-04e9-4ecb-b0af-3d9bf2acd8fd",
   "metadata": {},
   "outputs": [
    {
     "data": {
      "text/plain": [
       "'Indonesia'"
      ]
     },
     "execution_count": 73,
     "metadata": {},
     "output_type": "execute_result"
    }
   ],
   "source": [
    "# 5. Qual o nome do país que possui a maior quantidade de avaliações feitas?\n",
    "df_aux1 = (df1.loc[:, ['country_code', 'votes']]\n",
    "          .groupby('country_code').mean()\n",
    "          .sort_values('votes', ascending = False).reset_index())\n",
    "df_aux1.iloc[0,0]"
   ]
  },
  {
   "cell_type": "code",
   "execution_count": 74,
   "id": "35599bcc-743e-45a2-a6b7-279b8a952c81",
   "metadata": {},
   "outputs": [
    {
     "data": {
      "text/plain": [
       "'India'"
      ]
     },
     "execution_count": 74,
     "metadata": {},
     "output_type": "execute_result"
    }
   ],
   "source": [
    "# 6. Qual o nome do país que possui a maior quantidade de restaurantes que fazem entrega?\n",
    "\n",
    "delivery = (df1.loc[df1['is_delivering_now'] == 1, ['country_code', 'is_delivering_now']]\n",
    "            .groupby('country_code').count()\n",
    "            .sort_values('is_delivering_now', ascending = False).reset_index())\n",
    "delivery.iloc[0,0]"
   ]
  },
  {
   "cell_type": "code",
   "execution_count": 75,
   "id": "a1b965de-2a29-4afa-bf16-da96adc07bfa",
   "metadata": {},
   "outputs": [
    {
     "data": {
      "text/plain": [
       "'India'"
      ]
     },
     "execution_count": 75,
     "metadata": {},
     "output_type": "execute_result"
    }
   ],
   "source": [
    "# 7. Qual o nome do país que possui a maior quantidade de restaurantes que aceitam reservas?\n",
    "reservas = (df1.loc[df1['has_table_booking'] == 1, ['country_code', 'has_table_booking']]\n",
    "          .groupby('country_code').count()\n",
    "          .sort_values('has_table_booking', ascending=False).reset_index())\n",
    "reservas.iloc[0,0]"
   ]
  },
  {
   "cell_type": "code",
   "execution_count": 76,
   "id": "9e9ff80f-c410-4997-a16e-ae0b517da2b2",
   "metadata": {},
   "outputs": [
    {
     "data": {
      "text/plain": [
       "'Indonesia'"
      ]
     },
     "execution_count": 76,
     "metadata": {},
     "output_type": "execute_result"
    }
   ],
   "source": [
    "# 8. Qual o nome do país que possui, na média, a maior quantidade de avaliações registrada?\n",
    "df_aux1 = (df1.loc[:, ['country_code', 'votes']]\n",
    "          .groupby('country_code').mean()\n",
    "          .sort_values('votes', ascending = False).reset_index())\n",
    "df_aux1.iloc[0,0]"
   ]
  },
  {
   "cell_type": "code",
   "execution_count": 77,
   "id": "80cd6b40-466b-4a49-b02e-058a2ec23dc2",
   "metadata": {},
   "outputs": [
    {
     "data": {
      "text/plain": [
       "'Indonesia'"
      ]
     },
     "execution_count": 77,
     "metadata": {},
     "output_type": "execute_result"
    }
   ],
   "source": [
    "# 9. Qual o nome do país que possui, na média, a maior nota média registrada?\n",
    "maior_nota = (df1.loc[:, ['country_code', 'aggregate_rating']]\n",
    "              .groupby('country_code').mean()\n",
    "              .sort_values('aggregate_rating', ascending = False).reset_index())\n",
    "maior_nota.iloc[0,0]"
   ]
  },
  {
   "cell_type": "code",
   "execution_count": 78,
   "id": "767a8877-8989-4ffa-b6a0-f6b2a52e18d5",
   "metadata": {},
   "outputs": [
    {
     "data": {
      "text/plain": [
       "'Brazil'"
      ]
     },
     "execution_count": 78,
     "metadata": {},
     "output_type": "execute_result"
    }
   ],
   "source": [
    "# 10. Qual o nome do país que possui, na média, a menor nota média registrada?\n",
    "menor_nota = (df1.loc[:, ['country_code', 'aggregate_rating']]\n",
    "              .groupby('country_code').mean()\n",
    "              .sort_values('aggregate_rating', ascending = True).reset_index())\n",
    "menor_nota.iloc[0,0]"
   ]
  },
  {
   "cell_type": "code",
   "execution_count": 79,
   "id": "0ac31b02-75c6-40d2-aaf4-11b5e70dbcb0",
   "metadata": {},
   "outputs": [
    {
     "data": {
      "text/plain": [
       "'Indonesia'"
      ]
     },
     "execution_count": 79,
     "metadata": {},
     "output_type": "execute_result"
    }
   ],
   "source": [
    "# 11. Qual a média de preço de um prato para dois por país?\n",
    "for_two = (df1.loc[:, ['average_cost_for_two', 'country_code']]\n",
    "           .groupby('country_code').median()\n",
    "           .sort_values('average_cost_for_two', ascending=False).reset_index())\n",
    "for_two.iloc[0,0]"
   ]
  }
 ],
 "metadata": {
  "kernelspec": {
   "display_name": "Python 3 (ipykernel)",
   "language": "python",
   "name": "python3"
  },
  "language_info": {
   "codemirror_mode": {
    "name": "ipython",
    "version": 3
   },
   "file_extension": ".py",
   "mimetype": "text/x-python",
   "name": "python",
   "nbconvert_exporter": "python",
   "pygments_lexer": "ipython3",
   "version": "3.11.3"
  }
 },
 "nbformat": 4,
 "nbformat_minor": 5
}
